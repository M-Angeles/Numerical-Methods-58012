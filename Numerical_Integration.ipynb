{
  "nbformat": 4,
  "nbformat_minor": 0,
  "metadata": {
    "colab": {
      "name": "Numerical Integration",
      "provenance": [],
      "authorship_tag": "ABX9TyNC7B8sBYZIXsDH2TGjqlUI",
      "include_colab_link": true
    },
    "kernelspec": {
      "name": "python3",
      "display_name": "Python 3"
    },
    "language_info": {
      "name": "python"
    }
  },
  "cells": [
    {
      "cell_type": "markdown",
      "metadata": {
        "id": "view-in-github",
        "colab_type": "text"
      },
      "source": [
        "<a href=\"https://colab.research.google.com/github/M-Angeles/Numerical-Methods-58012/blob/main/Numerical_Integration.ipynb\" target=\"_parent\"><img src=\"https://colab.research.google.com/assets/colab-badge.svg\" alt=\"Open In Colab\"/></a>"
      ]
    },
    {
      "cell_type": "code",
      "execution_count": 13,
      "metadata": {
        "colab": {
          "base_uri": "https://localhost:8080/"
        },
        "id": "aA7KU-Q52kEI",
        "outputId": "5cd1556c-819c-4dd1-a05e-a3068913caa2"
      },
      "outputs": [
        {
          "output_type": "stream",
          "name": "stdout",
          "text": [
            "Integral = 0.372229\n"
          ]
        }
      ],
      "source": [
        "from math import sin\n",
        "def f(x): return sin(3*x)\n",
        "\n",
        "x1 = 0\n",
        "x2 = 0.6\n",
        "n = 7\n",
        "h = (x2 - x1)/n\n",
        "S = h*(f(x1)+f(x2))\n",
        "for i in range(1,n):\n",
        "  S = S+f(x1+i*h)\n",
        "integral = h*S\n",
        "print('Integral = %f' %integral)"
      ]
    }
  ]
}